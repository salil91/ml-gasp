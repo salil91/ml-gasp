{
 "cells": [
  {
   "cell_type": "markdown",
   "metadata": {},
   "source": [
    "# Plot ML GASP predictions"
   ]
  },
  {
   "cell_type": "markdown",
   "metadata": {},
   "source": [
    "## Imports and setup"
   ]
  },
  {
   "cell_type": "code",
   "execution_count": 7,
   "metadata": {},
   "outputs": [],
   "source": [
    "from pathlib import Path\n",
    "import pickle\n",
    "import matplotlib.pyplot as plt"
   ]
  },
  {
   "cell_type": "code",
   "execution_count": 8,
   "metadata": {},
   "outputs": [],
   "source": [
    "data_pkl = Path(\"/blue/subhash/salil.bavdekar/GASP/Si_C/garun_phase_diag/ml_run_data/prepared_data.pkl\")"
   ]
  },
  {
   "cell_type": "code",
   "execution_count": 10,
   "metadata": {},
   "outputs": [
    {
     "data": {
      "text/html": [
       "<div>\n",
       "<style scoped>\n",
       "    .dataframe tbody tr th:only-of-type {\n",
       "        vertical-align: middle;\n",
       "    }\n",
       "\n",
       "    .dataframe tbody tr th {\n",
       "        vertical-align: top;\n",
       "    }\n",
       "\n",
       "    .dataframe thead th {\n",
       "        text-align: right;\n",
       "    }\n",
       "</style>\n",
       "<table border=\"1\" class=\"dataframe\">\n",
       "  <thead>\n",
       "    <tr style=\"text-align: right;\">\n",
       "      <th></th>\n",
       "      <th>GASP ID</th>\n",
       "      <th>Run ID</th>\n",
       "      <th>X_C</th>\n",
       "      <th>X_Si</th>\n",
       "      <th>Energy per atom</th>\n",
       "      <th>Formation Energy</th>\n",
       "      <th>Hardness</th>\n",
       "    </tr>\n",
       "  </thead>\n",
       "  <tbody>\n",
       "    <tr>\n",
       "      <th>count</th>\n",
       "      <td>26276.000000</td>\n",
       "      <td>26276.000000</td>\n",
       "      <td>26276.000000</td>\n",
       "      <td>26276.000000</td>\n",
       "      <td>26276.000000</td>\n",
       "      <td>26276.000000</td>\n",
       "      <td>26276.000000</td>\n",
       "    </tr>\n",
       "    <tr>\n",
       "      <th>mean</th>\n",
       "      <td>529.898767</td>\n",
       "      <td>34.537258</td>\n",
       "      <td>0.245046</td>\n",
       "      <td>0.754954</td>\n",
       "      <td>-4.234411</td>\n",
       "      <td>2.089307</td>\n",
       "      <td>17.045262</td>\n",
       "    </tr>\n",
       "    <tr>\n",
       "      <th>std</th>\n",
       "      <td>282.808114</td>\n",
       "      <td>23.256685</td>\n",
       "      <td>0.253303</td>\n",
       "      <td>0.253303</td>\n",
       "      <td>23.860334</td>\n",
       "      <td>23.855872</td>\n",
       "      <td>22.219892</td>\n",
       "    </tr>\n",
       "    <tr>\n",
       "      <th>min</th>\n",
       "      <td>2.000000</td>\n",
       "      <td>1.000000</td>\n",
       "      <td>0.000000</td>\n",
       "      <td>0.000000</td>\n",
       "      <td>-9.092994</td>\n",
       "      <td>-0.272316</td>\n",
       "      <td>0.243339</td>\n",
       "    </tr>\n",
       "    <tr>\n",
       "      <th>25%</th>\n",
       "      <td>287.000000</td>\n",
       "      <td>15.000000</td>\n",
       "      <td>0.066667</td>\n",
       "      <td>0.625000</td>\n",
       "      <td>-6.103103</td>\n",
       "      <td>0.383988</td>\n",
       "      <td>7.869300</td>\n",
       "    </tr>\n",
       "    <tr>\n",
       "      <th>50%</th>\n",
       "      <td>553.000000</td>\n",
       "      <td>31.000000</td>\n",
       "      <td>0.142857</td>\n",
       "      <td>0.857143</td>\n",
       "      <td>-5.472699</td>\n",
       "      <td>0.494953</td>\n",
       "      <td>9.850682</td>\n",
       "    </tr>\n",
       "    <tr>\n",
       "      <th>75%</th>\n",
       "      <td>774.000000</td>\n",
       "      <td>51.000000</td>\n",
       "      <td>0.375000</td>\n",
       "      <td>0.933333</td>\n",
       "      <td>-5.075004</td>\n",
       "      <td>0.707907</td>\n",
       "      <td>17.338695</td>\n",
       "    </tr>\n",
       "    <tr>\n",
       "      <th>max</th>\n",
       "      <td>1009.000000</td>\n",
       "      <td>100.000000</td>\n",
       "      <td>1.000000</td>\n",
       "      <td>1.000000</td>\n",
       "      <td>1040.199043</td>\n",
       "      <td>1046.671937</td>\n",
       "      <td>282.858688</td>\n",
       "    </tr>\n",
       "  </tbody>\n",
       "</table>\n",
       "</div>"
      ],
      "text/plain": [
       "            GASP ID        Run ID           X_C          X_Si  \\\n",
       "count  26276.000000  26276.000000  26276.000000  26276.000000   \n",
       "mean     529.898767     34.537258      0.245046      0.754954   \n",
       "std      282.808114     23.256685      0.253303      0.253303   \n",
       "min        2.000000      1.000000      0.000000      0.000000   \n",
       "25%      287.000000     15.000000      0.066667      0.625000   \n",
       "50%      553.000000     31.000000      0.142857      0.857143   \n",
       "75%      774.000000     51.000000      0.375000      0.933333   \n",
       "max     1009.000000    100.000000      1.000000      1.000000   \n",
       "\n",
       "       Energy per atom  Formation Energy      Hardness  \n",
       "count     26276.000000      26276.000000  26276.000000  \n",
       "mean         -4.234411          2.089307     17.045262  \n",
       "std          23.860334         23.855872     22.219892  \n",
       "min          -9.092994         -0.272316      0.243339  \n",
       "25%          -6.103103          0.383988      7.869300  \n",
       "50%          -5.472699          0.494953      9.850682  \n",
       "75%          -5.075004          0.707907     17.338695  \n",
       "max        1040.199043       1046.671937    282.858688  "
      ]
     },
     "execution_count": 10,
     "metadata": {},
     "output_type": "execute_result"
    }
   ],
   "source": [
    "with open(data_pkl, \"rb\") as f:\n",
    "    data = pickle.load(f)"
   ]
  },
  {
   "cell_type": "code",
   "execution_count": null,
   "metadata": {},
   "outputs": [],
   "source": [
    "data.describe()"
   ]
  }
 ],
 "metadata": {
  "kernelspec": {
   "display_name": "Python 3 (ipykernel)",
   "language": "python",
   "name": "python3"
  },
  "language_info": {
   "codemirror_mode": {
    "name": "ipython",
    "version": 3
   },
   "file_extension": ".py",
   "mimetype": "text/x-python",
   "name": "python",
   "nbconvert_exporter": "python",
   "pygments_lexer": "ipython3",
   "version": "3.9.16"
  },
  "vscode": {
   "interpreter": {
    "hash": "ca9afe6fc7636794c6c184f1cf7a1a29afd80772a2e33f59519b483f17012a0b"
   }
  }
 },
 "nbformat": 4,
 "nbformat_minor": 4
}
